{
 "cells": [
  {
   "cell_type": "markdown",
   "metadata": {},
   "source": [
    "# Project Description"
   ]
  },
  {
   "cell_type": "markdown",
   "metadata": {},
   "source": [
    "In this project I wanted to create code to help streamline the analysis of BCA assays and allow my labmates to use the code to quickly analyze their assays. BCA assays are used to quantify total protein levels in cell lysates or purified protein. My lab performs them regularly in order to prepare samples to load for Western Blots. In my lab, our protocol for BCA assays is very methodical and thus is perfect for a bioinformatic approach. This assay centers around the use of a 96 well plate, such as the one shown below:\n",
    "\n",
    "<img src = '96wellplateimage.png' style = 'width:500px'>\n",
    "\n",
    "When conducting the BCA assay, 20 uL of 6 known concentrations of bovine serum albumin (BSA) are used as a control to create a standard curve. These standard curves are loaded in lanes 1 through 6 and 7 through 12 to prevent edge effects such as evaporation from affecting the standard curve. For instance, in a BCA assay, one would prepare 0 mg/mL BSA, 0.125 mg/mL BSA, 0.25 mg/mL BSA, 0.5 mg/mL BSA, 1.0 mg/mL BSA, and 2.0 mg/mL BSA which would be loaded from lowest to highest in lanes 1 to 6 and again in lanes 7 to 12. \n",
    "\n",
    "To preserve precious sample, 2 uL of each experimental lysates are loaded with 18 uL of lysis buffer for a total volume of 20 uL. Concentrations are adjusted to compare to control during analysis. Like the standards, we also typically load two replicates of every sample but will load replicates next to one another (1 & 2, 3 & 4, etc.) in order to prevent complicating the loading process.\n",
    "\n",
    "Once all samples are loaded, a resolving buffer which includes the Bicinchoninic acid reagent for which the assay is named, is created and 150 uL is added to each well where sample or standard was loaded. When first created, the resolving buffer is a light green but will react with proteins in the lysate to change to a purple color during a 30 minute incubation at 37 degrees Celsius. The more protein is present, the darker the mixture will become (the standard with no added protein will also change color over time but much less rapidly).\n",
    "\n",
    "To quantify total protein levels, the 96 well plate is loaded into a spectrophotometer to measure absorbance at 562 nm. The software we use in the lab produces a text file that we typically will transfer to an Excel sheet to perform our analysis but the process of manually selecting each cell and performing the calculations can amount to a very tedious task. In this project, I created a class function that will take a csv file directly and create a dataframe that mimics the 96 well plate. From there, my labmates will be able to quantify total protein levels using the functions I created to complete BCA assay analyses much more rapidly."
   ]
  },
  {
   "cell_type": "markdown",
   "metadata": {},
   "source": [
    "## Project Code\n",
    "\n",
    "If it makes sense for your project, you can have code and outputs here in the notebook as well."
   ]
  },
  {
   "cell_type": "code",
   "execution_count": 1,
   "metadata": {},
   "outputs": [],
   "source": [
    "from my_module.functions import standard_averages, standard_equation, sample_concentrations, loading\n",
    "from my_module.classes import TotalProteinAssay"
   ]
  },
  {
   "cell_type": "code",
   "execution_count": 2,
   "metadata": {},
   "outputs": [
    {
     "data": {
      "text/html": [
       "<div>\n",
       "<style scoped>\n",
       "    .dataframe tbody tr th:only-of-type {\n",
       "        vertical-align: middle;\n",
       "    }\n",
       "\n",
       "    .dataframe tbody tr th {\n",
       "        vertical-align: top;\n",
       "    }\n",
       "\n",
       "    .dataframe thead th {\n",
       "        text-align: right;\n",
       "    }\n",
       "</style>\n",
       "<table border=\"1\" class=\"dataframe\">\n",
       "  <thead>\n",
       "    <tr style=\"text-align: right;\">\n",
       "      <th></th>\n",
       "      <th>1</th>\n",
       "      <th>2</th>\n",
       "      <th>3</th>\n",
       "      <th>4</th>\n",
       "      <th>5</th>\n",
       "      <th>6</th>\n",
       "      <th>7</th>\n",
       "      <th>8</th>\n",
       "      <th>9</th>\n",
       "      <th>10</th>\n",
       "      <th>11</th>\n",
       "      <th>12</th>\n",
       "    </tr>\n",
       "  </thead>\n",
       "  <tbody>\n",
       "    <tr>\n",
       "      <th>A</th>\n",
       "      <td>0.1528</td>\n",
       "      <td>0.2935</td>\n",
       "      <td>0.4550</td>\n",
       "      <td>0.7416</td>\n",
       "      <td>1.3015</td>\n",
       "      <td>2.3295</td>\n",
       "      <td>0.1537</td>\n",
       "      <td>0.2865</td>\n",
       "      <td>0.4426</td>\n",
       "      <td>0.7373</td>\n",
       "      <td>1.2814</td>\n",
       "      <td>2.3282</td>\n",
       "    </tr>\n",
       "    <tr>\n",
       "      <th>B</th>\n",
       "      <td>0.4684</td>\n",
       "      <td>0.4379</td>\n",
       "      <td>0.4195</td>\n",
       "      <td>0.4195</td>\n",
       "      <td>0.4445</td>\n",
       "      <td>0.4145</td>\n",
       "      <td>0.4065</td>\n",
       "      <td>0.4113</td>\n",
       "      <td>0.4396</td>\n",
       "      <td>0.4093</td>\n",
       "      <td>0.0469</td>\n",
       "      <td>0.0468</td>\n",
       "    </tr>\n",
       "    <tr>\n",
       "      <th>C</th>\n",
       "      <td>0.3812</td>\n",
       "      <td>0.3904</td>\n",
       "      <td>0.3588</td>\n",
       "      <td>0.3548</td>\n",
       "      <td>0.3808</td>\n",
       "      <td>0.3735</td>\n",
       "      <td>0.4072</td>\n",
       "      <td>0.4074</td>\n",
       "      <td>0.4088</td>\n",
       "      <td>0.3661</td>\n",
       "      <td>0.0484</td>\n",
       "      <td>0.0495</td>\n",
       "    </tr>\n",
       "    <tr>\n",
       "      <th>D</th>\n",
       "      <td>0.4564</td>\n",
       "      <td>0.4373</td>\n",
       "      <td>0.3664</td>\n",
       "      <td>0.3591</td>\n",
       "      <td>0.3997</td>\n",
       "      <td>0.3986</td>\n",
       "      <td>0.3989</td>\n",
       "      <td>0.3959</td>\n",
       "      <td>0.4150</td>\n",
       "      <td>0.4100</td>\n",
       "      <td>0.0483</td>\n",
       "      <td>0.0486</td>\n",
       "    </tr>\n",
       "    <tr>\n",
       "      <th>E</th>\n",
       "      <td>0.4322</td>\n",
       "      <td>0.4062</td>\n",
       "      <td>0.3996</td>\n",
       "      <td>0.4001</td>\n",
       "      <td>0.4046</td>\n",
       "      <td>0.3907</td>\n",
       "      <td>0.4165</td>\n",
       "      <td>0.4062</td>\n",
       "      <td>0.3873</td>\n",
       "      <td>0.3761</td>\n",
       "      <td>0.0482</td>\n",
       "      <td>0.0484</td>\n",
       "    </tr>\n",
       "    <tr>\n",
       "      <th>F</th>\n",
       "      <td>0.0470</td>\n",
       "      <td>0.0469</td>\n",
       "      <td>0.0474</td>\n",
       "      <td>0.0474</td>\n",
       "      <td>0.0470</td>\n",
       "      <td>0.0479</td>\n",
       "      <td>0.0469</td>\n",
       "      <td>0.0484</td>\n",
       "      <td>0.0472</td>\n",
       "      <td>0.0473</td>\n",
       "      <td>0.0474</td>\n",
       "      <td>0.0472</td>\n",
       "    </tr>\n",
       "    <tr>\n",
       "      <th>G</th>\n",
       "      <td>0.0462</td>\n",
       "      <td>0.0474</td>\n",
       "      <td>0.0471</td>\n",
       "      <td>0.0471</td>\n",
       "      <td>0.0474</td>\n",
       "      <td>0.0477</td>\n",
       "      <td>0.0470</td>\n",
       "      <td>0.0469</td>\n",
       "      <td>0.0471</td>\n",
       "      <td>0.0485</td>\n",
       "      <td>0.0469</td>\n",
       "      <td>0.0475</td>\n",
       "    </tr>\n",
       "    <tr>\n",
       "      <th>H</th>\n",
       "      <td>0.0474</td>\n",
       "      <td>0.0470</td>\n",
       "      <td>0.0472</td>\n",
       "      <td>0.0472</td>\n",
       "      <td>0.0472</td>\n",
       "      <td>0.0467</td>\n",
       "      <td>0.0466</td>\n",
       "      <td>0.0470</td>\n",
       "      <td>0.0470</td>\n",
       "      <td>0.0469</td>\n",
       "      <td>0.0468</td>\n",
       "      <td>0.0470</td>\n",
       "    </tr>\n",
       "  </tbody>\n",
       "</table>\n",
       "</div>"
      ],
      "text/plain": [
       "        1       2       3       4       5       6       7       8       9  \\\n",
       "A  0.1528  0.2935  0.4550  0.7416  1.3015  2.3295  0.1537  0.2865  0.4426   \n",
       "B  0.4684  0.4379  0.4195  0.4195  0.4445  0.4145  0.4065  0.4113  0.4396   \n",
       "C  0.3812  0.3904  0.3588  0.3548  0.3808  0.3735  0.4072  0.4074  0.4088   \n",
       "D  0.4564  0.4373  0.3664  0.3591  0.3997  0.3986  0.3989  0.3959  0.4150   \n",
       "E  0.4322  0.4062  0.3996  0.4001  0.4046  0.3907  0.4165  0.4062  0.3873   \n",
       "F  0.0470  0.0469  0.0474  0.0474  0.0470  0.0479  0.0469  0.0484  0.0472   \n",
       "G  0.0462  0.0474  0.0471  0.0471  0.0474  0.0477  0.0470  0.0469  0.0471   \n",
       "H  0.0474  0.0470  0.0472  0.0472  0.0472  0.0467  0.0466  0.0470  0.0470   \n",
       "\n",
       "       10      11      12  \n",
       "A  0.7373  1.2814  2.3282  \n",
       "B  0.4093  0.0469  0.0468  \n",
       "C  0.3661  0.0484  0.0495  \n",
       "D  0.4100  0.0483  0.0486  \n",
       "E  0.3761  0.0482  0.0484  \n",
       "F  0.0473  0.0474  0.0472  \n",
       "G  0.0485  0.0469  0.0475  \n",
       "H  0.0469  0.0468  0.0470  "
      ]
     },
     "execution_count": 2,
     "metadata": {},
     "output_type": "execute_result"
    }
   ],
   "source": [
    "# First create a class object using the csv file taken from the plate reader and assign dataframe\n",
    "western = TotalProteinAssay('Sample_BCA.csv')\n",
    "\n",
    "df = western.bca\n",
    "\n",
    "df"
   ]
  },
  {
   "cell_type": "code",
   "execution_count": 3,
   "metadata": {},
   "outputs": [],
   "source": [
    "# Average absorbances of BSA standards for standard curve calculation\n",
    "std_avg = standard_averages(df, 'A')"
   ]
  },
  {
   "cell_type": "code",
   "execution_count": 4,
   "metadata": {
    "scrolled": true
   },
   "outputs": [
    {
     "name": "stdout",
     "output_type": "stream",
     "text": [
      "coefficient of determination: 0.9992235694737742\n"
     ]
    },
    {
     "data": {
      "text/plain": [
       "'absorbance = 1.0884851612903228(concentration) + 0.17231999999999992'"
      ]
     },
     "execution_count": 4,
     "metadata": {},
     "output_type": "execute_result"
    },
    {
     "data": {
      "image/png": "[encoded data removed]",
      "text/plain": [
       "<Figure size 432x288 with 1 Axes>"
      ]
     },
     "metadata": {
      "needs_background": "light"
     },
     "output_type": "display_data"
    }
   ],
   "source": [
    "# Calculate standard curve \n",
    "standard_equation(std_avg)"
   ]
  },
  {
   "cell_type": "code",
   "execution_count": 5,
   "metadata": {},
   "outputs": [
    {
     "name": "stdout",
     "output_type": "stream",
     "text": [
      "Enter slope: 1.088\n",
      "Enter y intercept: 0.172\n"
     ]
    },
    {
     "data": {
      "text/plain": [
       "{'Sample 1': 2.5840992647058822,\n",
       " 'Sample 2': 2.2748161764705883,\n",
       " 'Sample 3': 2.3667279411764706,\n",
       " 'Sample 4': 2.1773897058823524,\n",
       " 'Sample 5': 2.3203125,\n",
       " 'Sample 6': 1.965073529411765,\n",
       " 'Sample 7': 1.698529411764706,\n",
       " 'Sample 8': 1.8855698529411762,\n",
       " 'Sample 9': 2.1626838235294117,\n",
       " 'Sample 10': 1.9802389705882348,\n",
       " 'Sample 11': 2.526194852941176,\n",
       " 'Sample 12': 1.7532169117647058,\n",
       " 'Sample 13': 2.0877757352941178,\n",
       " 'Sample 14': 2.071691176470588,\n",
       " 'Sample 15': 2.21047794117647,\n",
       " 'Sample 16': 2.272058823529412,\n",
       " 'Sample 17': 2.09420955882353,\n",
       " 'Sample 18': 2.073988970588235,\n",
       " 'Sample 19': 2.199908088235294,\n",
       " 'Sample 20': 1.9273897058823528}"
      ]
     },
     "execution_count": 5,
     "metadata": {},
     "output_type": "execute_result"
    }
   ],
   "source": [
    "# Calculate protein concentrations of samples, can be used to normalize for assays like mass spectrometry\n",
    "western_conc = sample_concentrations(df, 'B', 'C', 'D', 'E')\n",
    "\n",
    "western_conc"
   ]
  },
  {
   "cell_type": "code",
   "execution_count": 6,
   "metadata": {},
   "outputs": [
    {
     "data": {
      "text/plain": [
       "{'Sample 1': 7.7396407611595235,\n",
       " 'Sample 2': 8.791919191919192,\n",
       " 'Sample 3': 8.450485436893205,\n",
       " 'Sample 4': 9.185310257492615,\n",
       " 'Sample 5': 8.61952861952862,\n",
       " 'Sample 6': 10.177736202057996,\n",
       " 'Sample 7': 11.774891774891774,\n",
       " 'Sample 8': 10.606873019741654,\n",
       " 'Sample 9': 9.247768805779856,\n",
       " 'Sample 10': 10.09979113483407,\n",
       " 'Sample 11': 7.917045661269784,\n",
       " 'Sample 12': 11.407601572739187,\n",
       " 'Sample 13': 9.579572969403477,\n",
       " 'Sample 14': 9.653948535936115,\n",
       " 'Sample 15': 9.04781704781705,\n",
       " 'Sample 16': 8.802588996763753,\n",
       " 'Sample 17': 9.550142637700239,\n",
       " 'Sample 18': 9.643252825171729,\n",
       " 'Sample 19': 9.091288907457699,\n",
       " 'Sample 20': 10.376728659990464}"
      ]
     },
     "execution_count": 6,
     "metadata": {},
     "output_type": "execute_result"
    }
   ],
   "source": [
    "# If continuing to Western blot, calculate amount of sample to load after adding 4x sample buffer\n",
    "loading(western_conc, 15)"
   ]
  },
  {
   "cell_type": "code",
   "execution_count": 7,
   "metadata": {
    "scrolled": true
   },
   "outputs": [
    {
     "name": "stdout",
     "output_type": "stream",
     "text": [
      "\u001b[1m============================= test session starts ==============================\u001b[0m\n",
      "platform linux -- Python 3.8.6, pytest-6.2.1, py-1.10.0, pluggy-0.13.1\n",
      "rootdir: /home/n1tsai/Project_COGS18_SP21\n",
      "collected 3 items                                                              \u001b[0m\u001b[1m\n",
      "\n",
      "my_module/test_functions.py \u001b[32m.\u001b[0m\u001b[32m.\u001b[0m\u001b[32m.\u001b[0m\u001b[32m                                          [100%]\u001b[0m\n",
      "\n",
      "\u001b[32m============================== \u001b[32m\u001b[1m3 passed\u001b[0m\u001b[32m in 1.40s\u001b[0m\u001b[32m ===============================\u001b[0m\n"
     ]
    }
   ],
   "source": [
    "!pytest"
   ]
  },
  {
   "cell_type": "markdown",
   "metadata": {},
   "source": [
    "#### Extra Credit (*optional*)\n",
    "\n",
    "Prior to taking this course, I took one high school class called 'Introduction to Programming' that included a very brief lesson in Python. However, the main focus of the high school class was web design using html. I believe that I challenged myself in this project by exploring sklearn and pyplot functions. I also challenged myself to learn more about pandas and the use of dataframes for data analysis. "
   ]
  },
  {
   "cell_type": "code",
   "execution_count": null,
   "metadata": {},
   "outputs": [],
   "source": []
  }
 ],
 "metadata": {
  "kernelspec": {
   "display_name": "Python 3",
   "language": "python",
   "name": "python3"
  },
  "language_info": {
   "codemirror_mode": {
    "name": "ipython",
    "version": 3
   },
   "file_extension": ".py",
   "mimetype": "text/x-python",
   "name": "python",
   "nbconvert_exporter": "python",
   "pygments_lexer": "ipython3",
   "version": "3.8.6"
  }
 },
 "nbformat": 4,
 "nbformat_minor": 2
}
